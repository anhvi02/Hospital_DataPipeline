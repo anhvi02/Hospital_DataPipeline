{
 "cells": [
  {
   "cell_type": "markdown",
   "metadata": {},
   "source": [
    "### **Python Data Engineering Project**\n",
    "##### *-- Anh Vi Pham --*"
   ]
  },
  {
   "cell_type": "markdown",
   "metadata": {},
   "source": [
    "### **Setup Database**"
   ]
  },
  {
   "cell_type": "markdown",
   "metadata": {},
   "source": [
    "#### Connect Server"
   ]
  },
  {
   "cell_type": "code",
   "execution_count": 1,
   "metadata": {},
   "outputs": [],
   "source": [
    "import pyodbc\n",
    "import json\n",
    "import pandas as pd \n",
    "import warnings\n",
    "warnings.filterwarnings('ignore')\n",
    "\n",
    "# database credentials\n",
    "server = 'localhost,1433' \n",
    "database = 'master' \n",
    "driver = '{ODBC Driver 18 for SQL Server}'\n",
    "\n",
    "# import keys from json file\n",
    "with open(\"database_keys.json\", \"r\") as file:\n",
    "    config = json.load(file)\n",
    "username = config[\"username\"]\n",
    "password = config[\"password\"]\n",
    "\n",
    "# establish connecttion\n",
    "\n",
    "conn = pyodbc.connect(f'DRIVER={driver};SERVER={server};DATABASE={database};UID={username};PWD={password};TrustServerCertificate=yes')\n",
    "cursor = conn.cursor()"
   ]
  },
  {
   "cell_type": "markdown",
   "metadata": {},
   "source": [
    "#### Create new database"
   ]
  },
  {
   "cell_type": "code",
   "execution_count": 2,
   "metadata": {},
   "outputs": [
    {
     "name": "stdout",
     "output_type": "stream",
     "text": [
      "Currently connected to database: master\n"
     ]
    }
   ],
   "source": [
    "def get_current_database(cursor=cursor):\n",
    "    cursor.execute(\"SELECT DB_NAME() AS CurrentDatabase\")\n",
    "    current_db = cursor.fetchone()[0]\n",
    "    return print(f\"Currently connected to database: {current_db}\")\n",
    "get_current_database(cursor)"
   ]
  },
  {
   "cell_type": "code",
   "execution_count": 3,
   "metadata": {},
   "outputs": [
    {
     "name": "stdout",
     "output_type": "stream",
     "text": [
      "Database 'HospitalOperation' dropped successfully if it existed.\n"
     ]
    }
   ],
   "source": [
    "# drop database\n",
    "conn.autocommit = True\n",
    "\n",
    "# Drop the database if it exists\n",
    "cursor.execute(\"IF EXISTS (SELECT * FROM sys.databases WHERE name = 'HospitalOperation') DROP DATABASE HospitalOperation\")\n",
    "print(\"Database 'HospitalOperation' dropped successfully if it existed.\")"
   ]
  },
  {
   "cell_type": "code",
   "execution_count": 4,
   "metadata": {},
   "outputs": [
    {
     "name": "stdout",
     "output_type": "stream",
     "text": [
      "Database 'HospitalOperation' created successfully.\n"
     ]
    }
   ],
   "source": [
    "conn.autocommit = True\n",
    "try:\n",
    "    cursor.execute(\"CREATE DATABASE HospitalOperation\")\n",
    "    print(\"Database 'HospitalOperation' created successfully.\")\n",
    "except Exception as e:\n",
    "    print(f\"Error: {e}\")\n",
    "\n",
    "conn.autocommit = False"
   ]
  },
  {
   "cell_type": "code",
   "execution_count": 5,
   "metadata": {},
   "outputs": [],
   "source": [
    "# close connection to \"master\" database\n",
    "conn.close()"
   ]
  },
  {
   "cell_type": "markdown",
   "metadata": {},
   "source": [
    "#### Connect to new database"
   ]
  },
  {
   "cell_type": "code",
   "execution_count": 6,
   "metadata": {},
   "outputs": [
    {
     "name": "stdout",
     "output_type": "stream",
     "text": [
      "Currently connected to database: HospitalOperation\n"
     ]
    }
   ],
   "source": [
    "new_database_name = 'HospitalOperation'\n",
    "conn = pyodbc.connect(f'DRIVER={driver};SERVER={server};DATABASE={new_database_name};UID={username};PWD={password};TrustServerCertificate=yes')\n",
    "cursor = conn.cursor()\n",
    "\n",
    "get_current_database(cursor)"
   ]
  },
  {
   "cell_type": "markdown",
   "metadata": {},
   "source": [
    "#### Load database configuration file from table_creation_code.txt"
   ]
  },
  {
   "cell_type": "code",
   "execution_count": 7,
   "metadata": {},
   "outputs": [],
   "source": [
    "def load_sql_from_txt(file_name: str, mode='r'):\n",
    "    try:\n",
    "        commands = []\n",
    "        with open(file_name, mode) as file:\n",
    "            imported_commands = file.read().split(';')\n",
    "            for com in imported_commands:\n",
    "                commands.append(com.replace('\\n', ' ').strip())\n",
    "        return commands\n",
    "    except Exception as e:\n",
    "        conn.close()\n",
    "        return print(f'Failed to read commands from {file_name}  - \\n Error: {e} \\n Connection closed')\n",
    "\n",
    "def execute_list_of_sql_commands(command_list, cursor, conn):\n",
    "    try:\n",
    "        for command in command_list:\n",
    "            if command: \n",
    "                cursor.execute(command)\n",
    "\n",
    "        conn.commit()\n",
    "        return print(f'Commands excuted successfully')\n",
    "\n",
    "    except Exception as e:\n",
    "        conn.close()\n",
    "        return print(f'Failed to execute commands - \\n Error: {e} \\n Connection closed')\n"
   ]
  },
  {
   "cell_type": "code",
   "execution_count": 8,
   "metadata": {},
   "outputs": [
    {
     "name": "stdout",
     "output_type": "stream",
     "text": [
      "Commands excuted successfully\n"
     ]
    }
   ],
   "source": [
    "db_file = 'table_creation_code.txt'\n",
    "table_creation_codes = load_sql_from_txt(db_file)\n",
    "\n",
    "execute_list_of_sql_commands(command_list=table_creation_codes, cursor=cursor, conn=conn)"
   ]
  },
  {
   "cell_type": "markdown",
   "metadata": {},
   "source": [
    "#### Load data from sample_dataset.txt"
   ]
  },
  {
   "cell_type": "code",
   "execution_count": 9,
   "metadata": {},
   "outputs": [
    {
     "name": "stdout",
     "output_type": "stream",
     "text": [
      "Commands excuted successfully\n"
     ]
    }
   ],
   "source": [
    "data_file = 'sample_dataset.txt'\n",
    "data_codes = load_sql_from_txt(data_file)\n",
    "\n",
    "execute_list_of_sql_commands(command_list=data_codes, cursor=cursor, conn=conn)"
   ]
  },
  {
   "cell_type": "markdown",
   "metadata": {},
   "source": [
    "### **Data Cleaning**"
   ]
  },
  {
   "cell_type": "code",
   "execution_count": 10,
   "metadata": {},
   "outputs": [
    {
     "name": "stdout",
     "output_type": "stream",
     "text": [
      "Currently connected to database: HospitalOperation\n"
     ]
    }
   ],
   "source": [
    "get_current_database(cursor)"
   ]
  },
  {
   "cell_type": "code",
   "execution_count": 11,
   "metadata": {},
   "outputs": [],
   "source": [
    "def query(sql_code, engine = conn):\n",
    "    df_query = pd.read_sql(sql_code, engine)\n",
    "    return df_query"
   ]
  },
  {
   "cell_type": "markdown",
   "metadata": {},
   "source": [
    "#### Change data type: text to varchar(150)"
   ]
  },
  {
   "cell_type": "code",
   "execution_count": 12,
   "metadata": {},
   "outputs": [
    {
     "name": "stdout",
     "output_type": "stream",
     "text": [
      "Columns with text data type:\n",
      "      TABLE_NAME      COLUMN_NAME\n",
      "0      Physician             Name\n",
      "1      Physician         Position\n",
      "2     Department             Name\n",
      "3   NewProcedure             Name\n",
      "4        Patient             Name\n",
      "5        Patient          Address\n",
      "6        Patient            Phone\n",
      "7          Nurse             Name\n",
      "8          Nurse         Position\n",
      "9    Appointment  ExaminationRoom\n",
      "10    Medication             Name\n",
      "11    Medication            Brand\n",
      "12    Medication      Description\n",
      "13    Prescribes             Dose\n",
      "14          Room             Type\n"
     ]
    }
   ],
   "source": [
    "def find_columns_by_data_type(data_type: str, conn):\n",
    "    sql_code = f\"\"\"\n",
    "    SELECT TABLE_NAME, COLUMN_NAME \n",
    "    FROM INFORMATION_SCHEMA.COLUMNS \n",
    "    WHERE DATA_TYPE = '{data_type}'\n",
    "    \"\"\"\n",
    "    columns = query(sql_code, conn)\n",
    "    return columns\n",
    "\n",
    "data_type = 'text'\n",
    "text_columns = find_columns_by_data_type(data_type, conn)\n",
    "print(f\"Columns with {data_type} data type:\")\n",
    "print(text_columns)"
   ]
  },
  {
   "cell_type": "code",
   "execution_count": 13,
   "metadata": {},
   "outputs": [
    {
     "name": "stdout",
     "output_type": "stream",
     "text": [
      "Column 'Name' in table 'Physician' changed to VARCHAR(150)\n",
      "Column 'Position' in table 'Physician' changed to VARCHAR(150)\n",
      "Column 'Name' in table 'Department' changed to VARCHAR(150)\n",
      "Column 'Name' in table 'NewProcedure' changed to VARCHAR(150)\n",
      "Column 'Name' in table 'Patient' changed to VARCHAR(150)\n",
      "Column 'Address' in table 'Patient' changed to VARCHAR(150)\n",
      "Column 'Phone' in table 'Patient' changed to VARCHAR(150)\n",
      "Column 'Name' in table 'Nurse' changed to VARCHAR(150)\n",
      "Column 'Position' in table 'Nurse' changed to VARCHAR(150)\n",
      "Column 'ExaminationRoom' in table 'Appointment' changed to VARCHAR(150)\n",
      "Column 'Name' in table 'Medication' changed to VARCHAR(150)\n",
      "Column 'Brand' in table 'Medication' changed to VARCHAR(150)\n",
      "Column 'Description' in table 'Medication' changed to VARCHAR(150)\n",
      "Column 'Dose' in table 'Prescribes' changed to VARCHAR(150)\n",
      "Column 'Type' in table 'Room' changed to VARCHAR(150)\n"
     ]
    }
   ],
   "source": [
    "def alter_text_to_varchar(conn, table_name, column_name, varchar_length=150):\n",
    "    alter_sql = f\"ALTER TABLE [{table_name}] ALTER COLUMN [{column_name}] VARCHAR({varchar_length})\"\n",
    "    cursor = conn.cursor()\n",
    "    cursor.execute(alter_sql)\n",
    "    conn.commit()\n",
    "    print(f\"Column '{column_name}' in table '{table_name}' changed to VARCHAR({varchar_length})\")\n",
    "\n",
    "# Execute the change for each identified column\n",
    "for index, row in text_columns.iterrows():\n",
    "    alter_text_to_varchar(conn, row['TABLE_NAME'], row['COLUMN_NAME'])\n"
   ]
  },
  {
   "cell_type": "markdown",
   "metadata": {},
   "source": [
    "#### Data report"
   ]
  },
  {
   "cell_type": "code",
   "execution_count": null,
   "metadata": {},
   "outputs": [
    {
     "name": "stdout",
     "output_type": "stream",
     "text": [
      "Number of tables: 15\n"
     ]
    }
   ],
   "source": [
    "li_tables = query(\"\"\" \n",
    "    SELECT table_name \n",
    "    FROM information_schema.tables\n",
    "    WHERE table_type = 'BASE TABLE';\"\"\")['table_name'].to_list()\n",
    "\n",
    "print('Number of tables:', len(li_tables))"
   ]
  },
  {
   "cell_type": "code",
   "execution_count": 17,
   "metadata": {},
   "outputs": [
    {
     "name": "stdout",
     "output_type": "stream",
     "text": [
      "---------------------------------------------\n",
      "COLUMN: Physician\n",
      "PRIMARY KEY: [EmployeeID]\n",
      "\n",
      "- Number of missing values\n",
      "\n",
      "- Total number of duplicates in the entire columns: 0\n",
      "---------------------------------------------\n",
      "COLUMN: Department\n",
      "PRIMARY KEY: [DepartmentID]\n",
      "\n",
      "- Number of missing values\n",
      "\n",
      "- Total number of duplicates in the entire columns: 0\n",
      "---------------------------------------------\n",
      "COLUMN: Affiliated_With\n",
      "PRIMARY KEY: [Department], [Physician]\n",
      "\n",
      "- Number of missing values\n",
      "\n",
      "- Total number of duplicates in the entire columns: 0\n",
      "---------------------------------------------\n",
      "COLUMN: NewProcedure\n",
      "PRIMARY KEY: [Code]\n",
      "\n",
      "- Number of missing values\n",
      "\n",
      "- Total number of duplicates in the entire columns: 0\n",
      "---------------------------------------------\n",
      "COLUMN: Trained_In\n",
      "PRIMARY KEY: [Physician], [Treatment]\n",
      "\n",
      "- Number of missing values\n",
      "\n",
      "- Total number of duplicates in the entire columns: 0\n",
      "---------------------------------------------\n",
      "COLUMN: Patient\n",
      "PRIMARY KEY: [SSN]\n",
      "\n",
      "- Number of missing values\n",
      "\n",
      "- Total number of duplicates in the entire columns: 0\n",
      "---------------------------------------------\n",
      "COLUMN: Nurse\n",
      "PRIMARY KEY: [EmployeeID]\n",
      "\n",
      "- Number of missing values\n",
      "\n",
      "- Total number of duplicates in the entire columns: 0\n",
      "---------------------------------------------\n",
      "COLUMN: Appointment\n",
      "PRIMARY KEY: [AppointmentID]\n",
      "\n",
      "- Number of missing values\n",
      "  + [PrepNurse]: 2\n",
      "\n",
      "- Total number of duplicates in the entire columns: 0\n",
      "---------------------------------------------\n",
      "COLUMN: Medication\n",
      "PRIMARY KEY: [Code]\n",
      "\n",
      "- Number of missing values\n",
      "\n",
      "- Total number of duplicates in the entire columns: 0\n",
      "---------------------------------------------\n",
      "COLUMN: Prescribes\n",
      "PRIMARY KEY: [Date], [Medication], [Patient], [Physician]\n",
      "\n",
      "- Number of missing values\n",
      "  + [Appointment]: 1\n",
      "\n",
      "- Total number of duplicates in the entire columns: 0\n",
      "---------------------------------------------\n",
      "COLUMN: Block\n",
      "PRIMARY KEY: [Code], [Floor]\n",
      "\n",
      "- Number of missing values\n",
      "\n",
      "- Total number of duplicates in the entire columns: 0\n",
      "---------------------------------------------\n",
      "COLUMN: Room\n",
      "PRIMARY KEY: [Number]\n",
      "\n",
      "- Number of missing values\n",
      "\n",
      "- Total number of duplicates in the entire columns: 0\n",
      "---------------------------------------------\n",
      "COLUMN: On_Call\n",
      "PRIMARY KEY: [BlockCode], [BlockFloor], [End], [Nurse], [Start]\n",
      "\n",
      "- Number of missing values\n",
      "\n",
      "- Total number of duplicates in the entire columns: 0\n",
      "---------------------------------------------\n",
      "COLUMN: Stay\n",
      "PRIMARY KEY: [StayID]\n",
      "\n",
      "- Number of missing values\n",
      "\n",
      "- Total number of duplicates in the entire columns: 0\n",
      "---------------------------------------------\n",
      "COLUMN: Undergoes\n",
      "PRIMARY KEY: [Date], [NewProcedure], [Patient], [Stay]\n",
      "\n",
      "- Number of missing values\n",
      "  + [AssistingNurse]: 1\n",
      "\n",
      "- Total number of duplicates in the entire columns: 0\n"
     ]
    }
   ],
   "source": [
    "def get_primary_key_columns(table_name, conn):\n",
    "    sql_code = f\"\"\"\n",
    "    SELECT COLUMN_NAME \n",
    "    FROM INFORMATION_SCHEMA.TABLE_CONSTRAINTS AS TC\n",
    "    JOIN INFORMATION_SCHEMA.CONSTRAINT_COLUMN_USAGE AS CCU \n",
    "    ON TC.CONSTRAINT_NAME = CCU.CONSTRAINT_NAME\n",
    "    WHERE TC.TABLE_NAME = '{table_name}' AND TC.CONSTRAINT_TYPE = 'PRIMARY KEY'\n",
    "    \"\"\"\n",
    "    primary_key_columns = query(sql_code, conn)\n",
    "    return primary_key_columns['COLUMN_NAME'].tolist()\n",
    "\n",
    "def check_table_data(table_name, conn):\n",
    "    # Get primary key columns\n",
    "    primary_key_columns = get_primary_key_columns(table_name, conn)\n",
    "    print(f\"---------------------------------------------\")\n",
    "    print(f\"COLUMN: {table_name}\")\n",
    "    print(f\"PRIMARY KEY: {', '.join([f'[{col}]' for col in primary_key_columns]) if primary_key_columns else 'None'}\")\n",
    "    \n",
    "    # Check for missing values in each column\n",
    "    print(\"\\n- Number of missing values\")\n",
    "    columns_query = f\"SELECT COLUMN_NAME FROM INFORMATION_SCHEMA.COLUMNS WHERE TABLE_NAME = '{table_name}'\"\n",
    "    columns = query(columns_query, conn)['COLUMN_NAME'].tolist()\n",
    "    \n",
    "    for col in columns:\n",
    "        null_query = f\"SELECT COUNT(*) AS NullCount FROM {table_name} WHERE [{col}] IS NULL\"\n",
    "        null_count = query(null_query, conn).iloc[0, 0]\n",
    "        if null_count > 0:\n",
    "            print(f\"  + [{col}]: {null_count}\")\n",
    "    \n",
    "    # Check for duplicates in the entire table\n",
    "    duplicate_query = f\"\"\"\n",
    "    SELECT COUNT(*) AS TotalDuplicates \n",
    "    FROM (SELECT *, COUNT(*) OVER (PARTITION BY {', '.join([f'[{col}]' for col in columns])}) AS cnt FROM {table_name}) AS DupCheck\n",
    "    WHERE cnt > 1\n",
    "    \"\"\"\n",
    "    duplicate_count = query(duplicate_query, conn).iloc[0, 0]\n",
    "    print(f\"\\n- Total number of duplicates in the entire columns: {duplicate_count}\")\n",
    "\n",
    "for table in li_tables:\n",
    "    check_table_data(table, conn)\n"
   ]
  },
  {
   "cell_type": "markdown",
   "metadata": {},
   "source": [
    "### **Close Connection**"
   ]
  },
  {
   "cell_type": "code",
   "execution_count": 18,
   "metadata": {},
   "outputs": [],
   "source": [
    "conn.close()"
   ]
  },
  {
   "cell_type": "code",
   "execution_count": null,
   "metadata": {},
   "outputs": [],
   "source": []
  }
 ],
 "metadata": {
  "kernelspec": {
   "display_name": "streamlit",
   "language": "python",
   "name": "python3"
  },
  "language_info": {
   "codemirror_mode": {
    "name": "ipython",
    "version": 3
   },
   "file_extension": ".py",
   "mimetype": "text/x-python",
   "name": "python",
   "nbconvert_exporter": "python",
   "pygments_lexer": "ipython3",
   "version": "3.9.13"
  }
 },
 "nbformat": 4,
 "nbformat_minor": 2
}
