{
 "cells": [
  {
   "cell_type": "markdown",
   "metadata": {},
   "source": [
    "### **Python Data Engineering Project**\n",
    "##### *-- Anh Vi Pham --*"
   ]
  },
  {
   "cell_type": "markdown",
   "metadata": {},
   "source": [
    "### **Setup Database**"
   ]
  },
  {
   "cell_type": "markdown",
   "metadata": {},
   "source": [
    "#### Connect Server"
   ]
  },
  {
   "cell_type": "code",
   "execution_count": 78,
   "metadata": {},
   "outputs": [],
   "source": [
    "import pyodbc\n",
    "import json\n",
    "import pandas as pd \n",
    "import warnings\n",
    "warnings.filterwarnings('ignore')\n",
    "\n",
    "# database credentials\n",
    "server = 'localhost,1433' \n",
    "database = 'master' \n",
    "driver = '{ODBC Driver 18 for SQL Server}'\n",
    "\n",
    "# import keys from json file\n",
    "with open(\"database_keys.json\", \"r\") as file:\n",
    "    config = json.load(file)\n",
    "username = config[\"username\"]\n",
    "password = config[\"password\"]\n",
    "\n",
    "# establish connecttion\n",
    "\n",
    "conn = pyodbc.connect(f'DRIVER={driver};SERVER={server};DATABASE={database};UID={username};PWD={password};TrustServerCertificate=yes')\n",
    "cursor = conn.cursor()"
   ]
  },
  {
   "cell_type": "markdown",
   "metadata": {},
   "source": [
    "#### Create new database"
   ]
  },
  {
   "cell_type": "code",
   "execution_count": 79,
   "metadata": {},
   "outputs": [
    {
     "name": "stdout",
     "output_type": "stream",
     "text": [
      "Currently connected to database: master\n"
     ]
    }
   ],
   "source": [
    "def get_current_database(cursor=cursor):\n",
    "    cursor.execute(\"SELECT DB_NAME() AS CurrentDatabase\")\n",
    "    current_db = cursor.fetchone()[0]\n",
    "    return print(f\"Currently connected to database: {current_db}\")\n",
    "get_current_database(cursor)"
   ]
  },
  {
   "cell_type": "code",
   "execution_count": 80,
   "metadata": {},
   "outputs": [
    {
     "name": "stdout",
     "output_type": "stream",
     "text": [
      "Database 'HospitalOperation' dropped successfully if it existed.\n"
     ]
    }
   ],
   "source": [
    "# drop database\n",
    "conn.autocommit = True\n",
    "\n",
    "# Drop the database if it exists\n",
    "cursor.execute(\"IF EXISTS (SELECT * FROM sys.databases WHERE name = 'HospitalOperation') DROP DATABASE HospitalOperation\")\n",
    "print(\"Database 'HospitalOperation' dropped successfully if it existed.\")"
   ]
  },
  {
   "cell_type": "code",
   "execution_count": 81,
   "metadata": {},
   "outputs": [
    {
     "name": "stdout",
     "output_type": "stream",
     "text": [
      "Database 'HospitalOperation' created successfully.\n"
     ]
    }
   ],
   "source": [
    "conn.autocommit = True\n",
    "try:\n",
    "    cursor.execute(\"CREATE DATABASE HospitalOperation\")\n",
    "    print(\"Database 'HospitalOperation' created successfully.\")\n",
    "except Exception as e:\n",
    "    print(f\"Error: {e}\")\n",
    "\n",
    "conn.autocommit = False"
   ]
  },
  {
   "cell_type": "code",
   "execution_count": 82,
   "metadata": {},
   "outputs": [],
   "source": [
    "# close connection to \"master\" database\n",
    "conn.close()"
   ]
  },
  {
   "cell_type": "markdown",
   "metadata": {},
   "source": [
    "#### Connect to new database"
   ]
  },
  {
   "cell_type": "code",
   "execution_count": 83,
   "metadata": {},
   "outputs": [
    {
     "name": "stdout",
     "output_type": "stream",
     "text": [
      "Currently connected to database: HospitalOperation\n"
     ]
    }
   ],
   "source": [
    "new_database_name = 'HospitalOperation'\n",
    "conn = pyodbc.connect(f'DRIVER={driver};SERVER={server};DATABASE={new_database_name};UID={username};PWD={password};TrustServerCertificate=yes')\n",
    "cursor = conn.cursor()\n",
    "\n",
    "get_current_database(cursor)"
   ]
  },
  {
   "cell_type": "markdown",
   "metadata": {},
   "source": [
    "#### Load database configuration file from table_creation_code.txt"
   ]
  },
  {
   "cell_type": "code",
   "execution_count": 84,
   "metadata": {},
   "outputs": [],
   "source": [
    "def load_sql_from_txt(file_name: str, mode='r'):\n",
    "    try:\n",
    "        commands = []\n",
    "        with open(file_name, mode) as file:\n",
    "            imported_commands = file.read().split(';')\n",
    "            for com in imported_commands:\n",
    "                commands.append(com.replace('\\n', ' ').strip())\n",
    "        return commands\n",
    "    except Exception as e:\n",
    "        conn.close()\n",
    "        return print(f'Failed to read commands from {file_name}  - \\n Error: {e} \\n Connection closed')\n",
    "\n",
    "def execute_list_of_sql_commands(command_list, cursor, conn):\n",
    "    try:\n",
    "        for command in command_list:\n",
    "            if command: \n",
    "                cursor.execute(command)\n",
    "\n",
    "        conn.commit()\n",
    "        return print(f'Commands excuted successfully')\n",
    "\n",
    "    except Exception as e:\n",
    "        conn.close()\n",
    "        return print(f'Failed to execute commands - \\n Error: {e} \\n Connection closed')\n"
   ]
  },
  {
   "cell_type": "code",
   "execution_count": 85,
   "metadata": {},
   "outputs": [
    {
     "name": "stdout",
     "output_type": "stream",
     "text": [
      "Commands excuted successfully\n"
     ]
    }
   ],
   "source": [
    "db_file = 'table_creation_code.txt'\n",
    "table_creation_codes = load_sql_from_txt(db_file)\n",
    "\n",
    "execute_list_of_sql_commands(command_list=table_creation_codes, cursor=cursor, conn=conn)"
   ]
  },
  {
   "cell_type": "markdown",
   "metadata": {},
   "source": [
    "#### Load data from sample_dataset.txt"
   ]
  },
  {
   "cell_type": "code",
   "execution_count": 86,
   "metadata": {},
   "outputs": [
    {
     "name": "stdout",
     "output_type": "stream",
     "text": [
      "Commands excuted successfully\n"
     ]
    }
   ],
   "source": [
    "data_file = 'sample_dataset.txt'\n",
    "data_codes = load_sql_from_txt(data_file)\n",
    "\n",
    "execute_list_of_sql_commands(command_list=data_codes, cursor=cursor, conn=conn)"
   ]
  },
  {
   "cell_type": "markdown",
   "metadata": {},
   "source": [
    "### **Query**"
   ]
  },
  {
   "cell_type": "code",
   "execution_count": 90,
   "metadata": {},
   "outputs": [
    {
     "name": "stdout",
     "output_type": "stream",
     "text": [
      "Currently connected to database: HospitalOperation\n"
     ]
    }
   ],
   "source": [
    "get_current_database(cursor)"
   ]
  },
  {
   "cell_type": "code",
   "execution_count": 87,
   "metadata": {},
   "outputs": [],
   "source": [
    "def query(sql_code, engine = conn):\n",
    "    df_query = pd.read_sql(sql_code, engine)\n",
    "    return df_query"
   ]
  },
  {
   "cell_type": "code",
   "execution_count": 107,
   "metadata": {},
   "outputs": [
    {
     "name": "stdout",
     "output_type": "stream",
     "text": [
      "Number of tables: 15\n"
     ]
    }
   ],
   "source": [
    "li_tables = query(\n",
    "    \"\"\"\n",
    "    SELECT table_name \n",
    "    FROM information_schema.tables\n",
    "    WHERE table_type = 'BASE TABLE';\n",
    "    \"\"\" )['table_name'].to_list()\n",
    "print('Number of tables:', len(li_tables))"
   ]
  },
  {
   "cell_type": "code",
   "execution_count": null,
   "metadata": {},
   "outputs": [],
   "source": []
  },
  {
   "cell_type": "code",
   "execution_count": 115,
   "metadata": {},
   "outputs": [
    {
     "data": {
      "text/html": [
       "<div>\n",
       "<style scoped>\n",
       "    .dataframe tbody tr th:only-of-type {\n",
       "        vertical-align: middle;\n",
       "    }\n",
       "\n",
       "    .dataframe tbody tr th {\n",
       "        vertical-align: top;\n",
       "    }\n",
       "\n",
       "    .dataframe thead th {\n",
       "        text-align: right;\n",
       "    }\n",
       "</style>\n",
       "<table border=\"1\" class=\"dataframe\">\n",
       "  <thead>\n",
       "    <tr style=\"text-align: right;\">\n",
       "      <th></th>\n",
       "      <th>AppointmentID</th>\n",
       "      <th>Patient</th>\n",
       "      <th>PrepNurse</th>\n",
       "      <th>Physician</th>\n",
       "      <th>Start</th>\n",
       "      <th>End</th>\n",
       "      <th>ExaminationRoom</th>\n",
       "    </tr>\n",
       "  </thead>\n",
       "  <tbody>\n",
       "    <tr>\n",
       "      <th>0</th>\n",
       "      <td>13216584</td>\n",
       "      <td>100000001</td>\n",
       "      <td>101.0</td>\n",
       "      <td>1</td>\n",
       "      <td>2008-04-24 10:00:00</td>\n",
       "      <td>2008-04-24 11:00:00</td>\n",
       "      <td>A</td>\n",
       "    </tr>\n",
       "    <tr>\n",
       "      <th>1</th>\n",
       "      <td>26548913</td>\n",
       "      <td>100000002</td>\n",
       "      <td>101.0</td>\n",
       "      <td>2</td>\n",
       "      <td>2008-04-24 10:00:00</td>\n",
       "      <td>2008-04-24 11:00:00</td>\n",
       "      <td>B</td>\n",
       "    </tr>\n",
       "    <tr>\n",
       "      <th>2</th>\n",
       "      <td>36549879</td>\n",
       "      <td>100000001</td>\n",
       "      <td>102.0</td>\n",
       "      <td>1</td>\n",
       "      <td>2008-04-25 10:00:00</td>\n",
       "      <td>2008-04-25 11:00:00</td>\n",
       "      <td>A</td>\n",
       "    </tr>\n",
       "    <tr>\n",
       "      <th>3</th>\n",
       "      <td>46846589</td>\n",
       "      <td>100000004</td>\n",
       "      <td>103.0</td>\n",
       "      <td>4</td>\n",
       "      <td>2008-04-25 10:00:00</td>\n",
       "      <td>2008-04-25 11:00:00</td>\n",
       "      <td>B</td>\n",
       "    </tr>\n",
       "    <tr>\n",
       "      <th>4</th>\n",
       "      <td>59871321</td>\n",
       "      <td>100000004</td>\n",
       "      <td>NaN</td>\n",
       "      <td>4</td>\n",
       "      <td>2008-04-26 10:00:00</td>\n",
       "      <td>2008-04-26 11:00:00</td>\n",
       "      <td>C</td>\n",
       "    </tr>\n",
       "    <tr>\n",
       "      <th>5</th>\n",
       "      <td>69879231</td>\n",
       "      <td>100000003</td>\n",
       "      <td>103.0</td>\n",
       "      <td>2</td>\n",
       "      <td>2008-04-26 11:00:00</td>\n",
       "      <td>2008-04-26 12:00:00</td>\n",
       "      <td>C</td>\n",
       "    </tr>\n",
       "    <tr>\n",
       "      <th>6</th>\n",
       "      <td>76983231</td>\n",
       "      <td>100000001</td>\n",
       "      <td>NaN</td>\n",
       "      <td>3</td>\n",
       "      <td>2008-04-26 12:00:00</td>\n",
       "      <td>2008-04-26 13:00:00</td>\n",
       "      <td>C</td>\n",
       "    </tr>\n",
       "    <tr>\n",
       "      <th>7</th>\n",
       "      <td>86213939</td>\n",
       "      <td>100000004</td>\n",
       "      <td>102.0</td>\n",
       "      <td>9</td>\n",
       "      <td>2008-04-27 10:00:00</td>\n",
       "      <td>2008-04-21 11:00:00</td>\n",
       "      <td>A</td>\n",
       "    </tr>\n",
       "    <tr>\n",
       "      <th>8</th>\n",
       "      <td>93216548</td>\n",
       "      <td>100000002</td>\n",
       "      <td>101.0</td>\n",
       "      <td>2</td>\n",
       "      <td>2008-04-27 10:00:00</td>\n",
       "      <td>2008-04-27 11:00:00</td>\n",
       "      <td>B</td>\n",
       "    </tr>\n",
       "  </tbody>\n",
       "</table>\n",
       "</div>"
      ],
      "text/plain": [
       "   AppointmentID    Patient  PrepNurse  Physician               Start  \\\n",
       "0       13216584  100000001      101.0          1 2008-04-24 10:00:00   \n",
       "1       26548913  100000002      101.0          2 2008-04-24 10:00:00   \n",
       "2       36549879  100000001      102.0          1 2008-04-25 10:00:00   \n",
       "3       46846589  100000004      103.0          4 2008-04-25 10:00:00   \n",
       "4       59871321  100000004        NaN          4 2008-04-26 10:00:00   \n",
       "5       69879231  100000003      103.0          2 2008-04-26 11:00:00   \n",
       "6       76983231  100000001        NaN          3 2008-04-26 12:00:00   \n",
       "7       86213939  100000004      102.0          9 2008-04-27 10:00:00   \n",
       "8       93216548  100000002      101.0          2 2008-04-27 10:00:00   \n",
       "\n",
       "                  End ExaminationRoom  \n",
       "0 2008-04-24 11:00:00               A  \n",
       "1 2008-04-24 11:00:00               B  \n",
       "2 2008-04-25 11:00:00               A  \n",
       "3 2008-04-25 11:00:00               B  \n",
       "4 2008-04-26 11:00:00               C  \n",
       "5 2008-04-26 12:00:00               C  \n",
       "6 2008-04-26 13:00:00               C  \n",
       "7 2008-04-21 11:00:00               A  \n",
       "8 2008-04-27 11:00:00               B  "
      ]
     },
     "execution_count": 115,
     "metadata": {},
     "output_type": "execute_result"
    }
   ],
   "source": [
    "df = query(\n",
    "    f\"\"\"\n",
    "    SELECT * FROM Appointment\n",
    "    \"\"\" )\n",
    "df"
   ]
  },
  {
   "cell_type": "code",
   "execution_count": null,
   "metadata": {},
   "outputs": [],
   "source": [
    "def get_primary_key_columns(table_name, conn):\n",
    "    sql_code = f\"\"\"\n",
    "    SELECT COLUMN_NAME \n",
    "    FROM INFORMATION_SCHEMA.TABLE_CONSTRAINTS AS TC\n",
    "    JOIN INFORMATION_SCHEMA.CONSTRAINT_COLUMN_USAGE AS CCU \n",
    "    ON TC.CONSTRAINT_NAME = CCU.CONSTRAINT_NAME\n",
    "    WHERE TC.TABLE_NAME = '{table_name}' AND TC.CONSTRAINT_TYPE = 'PRIMARY KEY'\n",
    "    \"\"\"\n",
    "    primary_key_columns = query(sql_code, conn)\n",
    "    return primary_key_columns['COLUMN_NAME'].tolist()  # Return a list of primary key columns\n",
    "\n",
    "def check_primary_key(table_name, conn):\n",
    "    primary_key_columns = get_primary_key_columns(table_name, conn)\n",
    "    \n",
    "    df_temp = qqeur\n"
   ]
  },
  {
   "cell_type": "code",
   "execution_count": 119,
   "metadata": {},
   "outputs": [
    {
     "name": "stdout",
     "output_type": "stream",
     "text": [
      "Null values in primary key columns of Appointment: Empty DataFrame\n",
      "Columns: [AppointmentID, Patient, PrepNurse, Physician, Start, End, ExaminationRoom]\n",
      "Index: []\n",
      "Duplicate values in primary key columns of Appointment: Empty DataFrame\n",
      "Columns: [AppointmentID, cnt]\n",
      "Index: []\n"
     ]
    }
   ],
   "source": [
    "table_name = 'Appointment'\n",
    "check_primary_key(table_name, conn)"
   ]
  },
  {
   "cell_type": "markdown",
   "metadata": {},
   "source": [
    "### **Close Connection**"
   ]
  },
  {
   "cell_type": "code",
   "execution_count": 89,
   "metadata": {},
   "outputs": [],
   "source": [
    "# conn.close()"
   ]
  },
  {
   "cell_type": "code",
   "execution_count": null,
   "metadata": {},
   "outputs": [],
   "source": []
  }
 ],
 "metadata": {
  "kernelspec": {
   "display_name": "streamlit",
   "language": "python",
   "name": "python3"
  },
  "language_info": {
   "codemirror_mode": {
    "name": "ipython",
    "version": 3
   },
   "file_extension": ".py",
   "mimetype": "text/x-python",
   "name": "python",
   "nbconvert_exporter": "python",
   "pygments_lexer": "ipython3",
   "version": "3.9.20"
  }
 },
 "nbformat": 4,
 "nbformat_minor": 2
}
