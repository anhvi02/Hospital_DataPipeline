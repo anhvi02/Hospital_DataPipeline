{
 "cells": [
  {
   "cell_type": "markdown",
   "metadata": {},
   "source": [
    "### **Python Data Engineering Project**\n",
    "##### *-- Anh Vi Pham --*"
   ]
  },
  {
   "cell_type": "markdown",
   "metadata": {},
   "source": [
    "### **Setup Database**"
   ]
  },
  {
   "cell_type": "markdown",
   "metadata": {},
   "source": [
    "#### Connect Server"
   ]
  },
  {
   "cell_type": "code",
   "execution_count": null,
   "metadata": {},
   "outputs": [],
   "source": [
    "import pyodbc\n",
    "import json\n",
    "import pandas as pd \n",
    "import warnings\n",
    "warnings.filterwarnings('ignore')\n",
    "\n",
    "# database credentials\n",
    "server = 'localhost,1433' \n",
    "database = 'master' \n",
    "driver = '{ODBC Driver 18 for SQL Server}'\n",
    "\n",
    "# import keys from json file\n",
    "with open(\"database_keys.json\", \"r\") as file:\n",
    "    config = json.load(file)\n",
    "username = config[\"username\"]\n",
    "password = config[\"password\"]\n",
    "\n",
    "# establish connecttion\n",
    "\n",
    "conn = pyodbc.connect(f'DRIVER={driver};SERVER={server};DATABASE={database};UID={username};PWD={password};TrustServerCertificate=yes')\n",
    "cursor = conn.cursor()"
   ]
  },
  {
   "cell_type": "code",
   "execution_count": null,
   "metadata": {},
   "outputs": [],
   "source": []
  },
  {
   "cell_type": "markdown",
   "metadata": {},
   "source": [
    "#### Create new database"
   ]
  },
  {
   "cell_type": "code",
   "execution_count": 2,
   "metadata": {},
   "outputs": [
    {
     "name": "stdout",
     "output_type": "stream",
     "text": [
      "Currently connected to database: master\n"
     ]
    }
   ],
   "source": [
    "def get_current_database(cursor=cursor):\n",
    "    cursor.execute(\"SELECT DB_NAME() AS CurrentDatabase\")\n",
    "    current_db = cursor.fetchone()[0]\n",
    "    return print(f\"Currently connected to database: {current_db}\")\n",
    "get_current_database(cursor)"
   ]
  },
  {
   "cell_type": "code",
   "execution_count": 3,
   "metadata": {},
   "outputs": [
    {
     "name": "stdout",
     "output_type": "stream",
     "text": [
      "Database 'HospitalOperation' dropped successfully if it existed.\n"
     ]
    }
   ],
   "source": [
    "# drop database\n",
    "conn.autocommit = True\n",
    "\n",
    "# Drop the database if it exists\n",
    "cursor.execute(\"IF EXISTS (SELECT * FROM sys.databases WHERE name = 'HospitalOperation') DROP DATABASE HospitalOperation\")\n",
    "print(\"Database 'HospitalOperation' dropped successfully if it existed.\")"
   ]
  },
  {
   "cell_type": "code",
   "execution_count": 4,
   "metadata": {},
   "outputs": [
    {
     "name": "stdout",
     "output_type": "stream",
     "text": [
      "Database 'HospitalOperation' created successfully.\n"
     ]
    }
   ],
   "source": [
    "conn.autocommit = True\n",
    "try:\n",
    "    cursor.execute(\"CREATE DATABASE HospitalOperation\")\n",
    "    print(\"Database 'HospitalOperation' created successfully.\")\n",
    "except Exception as e:\n",
    "    print(f\"Error: {e}\")\n",
    "\n",
    "conn.autocommit = False"
   ]
  },
  {
   "cell_type": "code",
   "execution_count": null,
   "metadata": {},
   "outputs": [],
   "source": [
    "conn.close()  # Close the current connection to the master database"
   ]
  },
  {
   "cell_type": "markdown",
   "metadata": {},
   "source": [
    "#### Connect to new database"
   ]
  },
  {
   "cell_type": "code",
   "execution_count": 16,
   "metadata": {},
   "outputs": [],
   "source": [
    "new_database_name = 'HospitalOperation'\n",
    "conn = pyodbc.connect(f'DRIVER={driver};SERVER={server};DATABASE={new_database_name};UID={username};PWD={password};TrustServerCertificate=yes')\n",
    "cursor = conn.cursor()"
   ]
  },
  {
   "cell_type": "code",
   "execution_count": 17,
   "metadata": {},
   "outputs": [
    {
     "name": "stdout",
     "output_type": "stream",
     "text": [
      "Currently connected to database: HospitalOperation\n"
     ]
    }
   ],
   "source": [
    "get_current_database(cursor)"
   ]
  },
  {
   "cell_type": "markdown",
   "metadata": {},
   "source": [
    "#### Load database configuration file from table_creation_code.txt"
   ]
  },
  {
   "cell_type": "code",
   "execution_count": 7,
   "metadata": {},
   "outputs": [],
   "source": [
    "def load_sql_from_txt(file_name: str, mode='r'):\n",
    "    commands = []\n",
    "    with open(file_name, mode) as file:\n",
    "        imported_commands = file.read().split(';')\n",
    "        for com in imported_commands:\n",
    "            commands.append(com.replace('\\n', ' ').strip())\n",
    "    return commands"
   ]
  },
  {
   "cell_type": "code",
   "execution_count": 8,
   "metadata": {},
   "outputs": [
    {
     "name": "stdout",
     "output_type": "stream",
     "text": [
      "Database configurated succesfull from\n"
     ]
    }
   ],
   "source": [
    "try:\n",
    "    db_file = 'table_creation_code.txt'\n",
    "    table_creation_codes = load_sql_from_txt(db_file)\n",
    "    for command in table_creation_codes:\n",
    "        if command: \n",
    "            cursor.execute(command)\n",
    "\n",
    "    conn.commit()\n",
    "    print('Database configurated succesfull from')\n",
    "\n",
    "except Exception as e:\n",
    "    print('Database configurated failed')\n",
    "    print(e)\n"
   ]
  },
  {
   "cell_type": "markdown",
   "metadata": {},
   "source": [
    "#### Load data from sample_dataset.txt"
   ]
  },
  {
   "cell_type": "code",
   "execution_count": 9,
   "metadata": {},
   "outputs": [
    {
     "name": "stdout",
     "output_type": "stream",
     "text": [
      "Data loaded succesfully\n"
     ]
    }
   ],
   "source": [
    "try:\n",
    "    data_file = 'sample_dataset.txt'\n",
    "    data_codes = load_sql_from_txt(data_file)\n",
    "    for command in data_codes:\n",
    "        if command: \n",
    "            cursor.execute(command)\n",
    "\n",
    "    conn.commit()\n",
    "    print('Data loaded succesfully')\n",
    "\n",
    "except Exception as e:\n",
    "    print('Data loaded failed')\n",
    "    print(e)\n"
   ]
  },
  {
   "cell_type": "markdown",
   "metadata": {},
   "source": [
    "### **Query**"
   ]
  },
  {
   "cell_type": "code",
   "execution_count": 18,
   "metadata": {},
   "outputs": [],
   "source": [
    "def query(sql_code, engine = conn):\n",
    "    df_query = pd.read_sql(sql_code, engine)\n",
    "    return df_query"
   ]
  },
  {
   "cell_type": "code",
   "execution_count": 19,
   "metadata": {},
   "outputs": [
    {
     "name": "stderr",
     "output_type": "stream",
     "text": [
      "C:\\Users\\ADMIN\\AppData\\Local\\Temp\\ipykernel_12080\\165815039.py:2: UserWarning: pandas only supports SQLAlchemy connectable (engine/connection) or database string URI or sqlite3 DBAPI2 connection. Other DBAPI2 objects are not tested. Please consider using SQLAlchemy.\n",
      "  df_query = pd.read_sql(sql_code, engine)\n"
     ]
    }
   ],
   "source": [
    "df_patient = query('''\n",
    "                   SELECT * FROM Patient\n",
    "                   ''')"
   ]
  },
  {
   "cell_type": "markdown",
   "metadata": {},
   "source": [
    "### **Close Connection**"
   ]
  },
  {
   "cell_type": "code",
   "execution_count": null,
   "metadata": {},
   "outputs": [],
   "source": [
    "# conn.close()"
   ]
  },
  {
   "cell_type": "code",
   "execution_count": null,
   "metadata": {},
   "outputs": [],
   "source": []
  }
 ],
 "metadata": {
  "kernelspec": {
   "display_name": "streamlit",
   "language": "python",
   "name": "python3"
  },
  "language_info": {
   "codemirror_mode": {
    "name": "ipython",
    "version": 3
   },
   "file_extension": ".py",
   "mimetype": "text/x-python",
   "name": "python",
   "nbconvert_exporter": "python",
   "pygments_lexer": "ipython3",
   "version": "3.9.20"
  }
 },
 "nbformat": 4,
 "nbformat_minor": 2
}
