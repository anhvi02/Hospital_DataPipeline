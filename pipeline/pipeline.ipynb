{
 "cells": [
  {
   "cell_type": "markdown",
   "metadata": {},
   "source": [
    "### **Python Data Engineering Project**\n",
    "##### *-- Anh Vi Pham --*"
   ]
  },
  {
   "cell_type": "markdown",
   "metadata": {},
   "source": [
    "### **Setup Database**"
   ]
  },
  {
   "cell_type": "markdown",
   "metadata": {},
   "source": [
    "#### Connect Server"
   ]
  },
  {
   "cell_type": "code",
   "execution_count": null,
   "metadata": {},
   "outputs": [],
   "source": [
    "import pyodbc\n",
    "import json\n",
    "import pandas as pd \n",
    "# database credentials\n",
    "server = 'localhost,1433' \n",
    "database = 'master' \n",
    "driver = '{ODBC Driver 18 for SQL Server}'\n",
    "\n",
    "# import keys from json file\n",
    "with open(\"database_keys.json\", \"r\") as file:\n",
    "    config = json.load(file)\n",
    "username = config[\"username\"]\n",
    "password = config[\"password\"]\n",
    "\n",
    "# establish connecttion\n",
    "\n",
    "conn = pyodbc.connect(f'DRIVER={driver};SERVER={server};DATABASE={database};UID={username};PWD={password};TrustServerCertificate=yes')\n",
    "cursor = conn.cursor()"
   ]
  },
  {
   "cell_type": "markdown",
   "metadata": {},
   "source": [
    "#### Create new database"
   ]
  },
  {
   "cell_type": "code",
   "execution_count": 24,
   "metadata": {},
   "outputs": [
    {
     "name": "stdout",
     "output_type": "stream",
     "text": [
      "Currently connected to database: master\n"
     ]
    }
   ],
   "source": [
    "def get_current_database(cursor=cursor):\n",
    "    cursor.execute(\"SELECT DB_NAME() AS CurrentDatabase\")\n",
    "    current_db = cursor.fetchone()[0]\n",
    "    return print(f\"Currently connected to database: {current_db}\")\n",
    "get_current_database(cursor)"
   ]
  },
  {
   "cell_type": "code",
   "execution_count": 25,
   "metadata": {},
   "outputs": [
    {
     "name": "stdout",
     "output_type": "stream",
     "text": [
      "Database 'HospitalOperation' dropped successfully if it existed.\n"
     ]
    }
   ],
   "source": [
    "# drop database\n",
    "conn.autocommit = True\n",
    "\n",
    "# Drop the database if it exists\n",
    "cursor.execute(\"IF EXISTS (SELECT * FROM sys.databases WHERE name = 'HospitalOperation') DROP DATABASE HospitalOperation\")\n",
    "print(\"Database 'HospitalOperation' dropped successfully if it existed.\")"
   ]
  },
  {
   "cell_type": "code",
   "execution_count": 26,
   "metadata": {},
   "outputs": [
    {
     "name": "stdout",
     "output_type": "stream",
     "text": [
      "Database 'HospitalOperation' created successfully.\n"
     ]
    }
   ],
   "source": [
    "conn.autocommit = True\n",
    "try:\n",
    "    cursor.execute(\"CREATE DATABASE HospitalOperation\")\n",
    "    print(\"Database 'HospitalOperation' created successfully.\")\n",
    "except Exception as e:\n",
    "    print(f\"Error: {e}\")\n",
    "\n",
    "conn.autocommit = False"
   ]
  },
  {
   "cell_type": "markdown",
   "metadata": {},
   "source": [
    "#### Connect to new database"
   ]
  },
  {
   "cell_type": "code",
   "execution_count": 27,
   "metadata": {},
   "outputs": [],
   "source": [
    "# Reconnect to the new database\n",
    "conn.close()  # Close the current connection to the master database\n",
    "\n",
    "new_database_name = 'HospitalOperation'\n",
    "conn = pyodbc.connect(f'DRIVER={driver};SERVER={server};DATABASE={new_database_name};UID={username};PWD={password};TrustServerCertificate=yes')\n",
    "cursor = conn.cursor()"
   ]
  },
  {
   "cell_type": "code",
   "execution_count": 28,
   "metadata": {},
   "outputs": [
    {
     "name": "stdout",
     "output_type": "stream",
     "text": [
      "Currently connected to database: HospitalOperation\n"
     ]
    }
   ],
   "source": [
    "get_current_database(cursor)"
   ]
  },
  {
   "cell_type": "markdown",
   "metadata": {},
   "source": [
    "#### Load database configuration file from table_creation_code.txt"
   ]
  },
  {
   "cell_type": "code",
   "execution_count": null,
   "metadata": {},
   "outputs": [
    {
     "name": "stdout",
     "output_type": "stream",
     "text": [
      "CREATE TABLE Physician (   EmployeeID INTEGER PRIMARY KEY NOT NULL,   Name TEXT NOT NULL,   Position TEXT NOT NULL,   SSN INTEGER NOT NULL )\n",
      "CREATE TABLE Department (   DepartmentID INTEGER PRIMARY KEY NOT NULL,   Name TEXT NOT NULL,   Head INTEGER NOT NULL     CONSTRAINT fk_Physician_EmployeeID REFERENCES Physician(EmployeeID) )\n",
      "CREATE TABLE Affiliated_With (   Physician INTEGER NOT NULL     REFERENCES Physician(EmployeeID),   Department INTEGER NOT NULL     REFERENCES Department(DepartmentID),   PrimaryAffiliation BIT NOT NULL,   PRIMARY KEY(Physician, Department) )\n",
      "CREATE TABLE NewProcedure (   Code INTEGER PRIMARY KEY NOT NULL,   Name TEXT NOT NULL,   Cost REAL NOT NULL )\n",
      "CREATE TABLE Trained_In (   Physician INTEGER NOT NULL      REFERENCES Physician(EmployeeID),   Treatment INTEGER NOT NULL    REFERENCES NewProcedure(Code),   CertificationDate DATETIME NOT NULL,   CertificationExpires DATETIME NOT NULL,   PRIMARY KEY(Physician, Treatment) )\n",
      "CREATE TABLE Patient (   SSN INTEGER PRIMARY KEY NOT NULL,   Name TEXT NOT NULL,   Address TEXT NOT NULL,   Phone TEXT NOT NULL,   InsuranceID INTEGER NOT NULL,   PCP INTEGER NOT NULL      REFERENCES Physician(EmployeeID) )\n",
      "CREATE TABLE Nurse (   EmployeeID INTEGER PRIMARY KEY NOT NULL,   Name TEXT NOT NULL,   Position TEXT NOT NULL,   Registered BIT NOT NULL,   SSN INTEGER NOT NULL )\n",
      "CREATE TABLE Appointment (   AppointmentID INTEGER PRIMARY KEY NOT NULL,   Patient INTEGER NOT NULL     REFERENCES Patient(SSN),   PrepNurse INTEGER     REFERENCES Nurse(EmployeeID),   Physician INTEGER NOT NULL     REFERENCES Physician(EmployeeID),   Start DATETIME NOT NULL,   [End] DATETIME NOT NULL,   ExaminationRoom TEXT NOT NULL )\n",
      "CREATE TABLE Medication (   Code INTEGER PRIMARY KEY NOT NULL,   Name TEXT NOT NULL,   Brand TEXT NOT NULL,   Description TEXT NOT NULL )\n",
      "CREATE TABLE Prescribes (   Physician INTEGER NOT NULL      REFERENCES Physician(EmployeeID),   Patient INTEGER NOT NULL      REFERENCES Patient(SSN),   Medication INTEGER NOT NULL      REFERENCES Medication(Code),   Date DATETIME NOT NULL,   Appointment INTEGER      REFERENCES Appointment(AppointmentID),   Dose TEXT NOT NULL,   PRIMARY KEY(Physician, Patient, Medication, Date) )\n",
      "CREATE TABLE Block (   Floor INTEGER NOT NULL,   Code INTEGER NOT NULL,   PRIMARY KEY(Floor, Code) )\n",
      "CREATE TABLE Room (   Number INTEGER PRIMARY KEY NOT NULL,   Type TEXT NOT NULL,   BlockFloor INTEGER NOT NULL,   BlockCode INTEGER NOT NULL,   Unavailable BIT NOT NULL,   FOREIGN KEY(BlockFloor, BlockCode) REFERENCES Block )\n",
      "CREATE TABLE On_Call (   Nurse INTEGER NOT NULL     CONSTRAINT fk_Nurse_EmployeeID REFERENCES Nurse(EmployeeID),   BlockFloor INTEGER NOT NULL,   BlockCode INTEGER NOT NULL,   Start DATETIME NOT NULL,   [End] DATETIME NOT NULL,   PRIMARY KEY(Nurse, BlockFloor, BlockCode, Start, [End]),   FOREIGN KEY(BlockFloor, BlockCode) REFERENCES Block )\n",
      "CREATE TABLE Stay (   StayID INTEGER PRIMARY KEY NOT NULL,   Patient INTEGER NOT NULL     CONSTRAINT fk_Patient_SSN REFERENCES Patient(SSN),   Room INTEGER NOT NULL     CONSTRAINT fk_Room_Number REFERENCES Room(Number),   Start DATETIME NOT NULL,   [End] DATETIME NOT NULL )\n",
      "CREATE TABLE Undergoes (   Patient INTEGER NOT NULL     REFERENCES Patient(SSN),   NewProcedure INTEGER NOT NULL      REFERENCES NewProcedure(Code),   Stay INTEGER NOT NULL     REFERENCES Stay(StayID),   Date DATETIME NOT NULL,   Physician INTEGER NOT NULL     REFERENCES Physician(EmployeeID),   AssistingNurse INTEGER     REFERENCES Nurse(EmployeeID),   PRIMARY KEY(Patient, NewProcedure, Stay, Date) )\n",
      "\n"
     ]
    }
   ],
   "source": [
    "def load_sql_from_txt(file_name: str, mode='r'):\n",
    "    commands = []\n",
    "    with open(file_name, mode) as file:\n",
    "        imported_commands = file.read().split(';')\n",
    "        for com in imported_commands:\n",
    "            commands.append(com.replace('\\n', ' ').strip())\n",
    "    return commands\n",
    "\n",
    "\n"
   ]
  },
  {
   "cell_type": "code",
   "execution_count": null,
   "metadata": {},
   "outputs": [],
   "source": [
    "try:\n",
    "    file_name = 'table_creation_code.txt'\n",
    "    table_creation_codes = load_sql_from_txt()\n",
    "    for command in table_creation_codes:\n",
    "        if command: \n",
    "            cursor.execute(command)\n",
    "\n",
    "    conn.commit()\n",
    "    print('Database configurated succesfull from')\n",
    "\n",
    "except Exception as e:\n",
    "    print('Database configurated failed')\n"
   ]
  },
  {
   "cell_type": "markdown",
   "metadata": {},
   "source": [
    "#### Load data from sample_dataset.txt"
   ]
  },
  {
   "cell_type": "code",
   "execution_count": null,
   "metadata": {},
   "outputs": [],
   "source": [
    "try:\n",
    "    file_name = 'sample_dataset.txt'\n",
    "    data_codes = load_sql_from_txt()\n",
    "    for command in data_codes:\n",
    "        if command: \n",
    "            cursor.execute(command)\n",
    "\n",
    "    conn.commit()\n",
    "    print('Data loaded succesfully')\n",
    "\n",
    "except Exception as e:\n",
    "    print('Data loaded failed')\n",
    "    print(e)\n"
   ]
  },
  {
   "cell_type": "markdown",
   "metadata": {},
   "source": [
    "### **Query**"
   ]
  },
  {
   "cell_type": "code",
   "execution_count": 33,
   "metadata": {},
   "outputs": [],
   "source": [
    "def query(sql_code, engine = conn):\n",
    "    df_query = pd.read_sql(sql_code, engine)\n",
    "    return df_query"
   ]
  },
  {
   "cell_type": "code",
   "execution_count": null,
   "metadata": {},
   "outputs": [],
   "source": [
    "df"
   ]
  },
  {
   "cell_type": "markdown",
   "metadata": {},
   "source": [
    "### **Close Connection**"
   ]
  },
  {
   "cell_type": "code",
   "execution_count": null,
   "metadata": {},
   "outputs": [],
   "source": [
    "conn.close()"
   ]
  },
  {
   "cell_type": "code",
   "execution_count": null,
   "metadata": {},
   "outputs": [],
   "source": []
  }
 ],
 "metadata": {
  "kernelspec": {
   "display_name": "streamlit",
   "language": "python",
   "name": "python3"
  },
  "language_info": {
   "codemirror_mode": {
    "name": "ipython",
    "version": 3
   },
   "file_extension": ".py",
   "mimetype": "text/x-python",
   "name": "python",
   "nbconvert_exporter": "python",
   "pygments_lexer": "ipython3",
   "version": "3.9.20"
  }
 },
 "nbformat": 4,
 "nbformat_minor": 2
}
