{
 "cells": [
  {
   "cell_type": "markdown",
   "metadata": {},
   "source": [
    "### **Connect database PatientInteraction**"
   ]
  },
  {
   "cell_type": "code",
   "execution_count": 1,
   "metadata": {},
   "outputs": [
    {
     "name": "stdout",
     "output_type": "stream",
     "text": [
      "Connection to 'PatientInteraction' established\n"
     ]
    }
   ],
   "source": [
    "import pyodbc\n",
    "import json\n",
    "import pandas as pd \n",
    "import warnings\n",
    "import urllib.parse\n",
    "warnings.filterwarnings('ignore')\n",
    "pd.set_option('display.max_columns', None)\n",
    "pd.set_option('display.max_rows', 65)\n",
    "\n",
    "\n",
    "def connect_database(database, server='localhost,1433', driver='{ODBC Driver 18 for SQL Server}', username='sa', password='rainscales@2024'):\n",
    "    # establish connecttion\n",
    "    conn = pyodbc.connect(f'DRIVER={driver};SERVER={server};DATABASE={database};UID={username};PWD={password};TrustServerCertificate=yes')\n",
    "    print(f\"Connection to '{database}' established\")\n",
    "    return conn \n",
    "\n",
    "conn_patient= connect_database(database='PatientInteraction')\n",
    "cursor_patient = conn_patient.cursor()"
   ]
  },
  {
   "cell_type": "markdown",
   "metadata": {},
   "source": [
    "### **1. Update data in Transforming Stage**"
   ]
  },
  {
   "cell_type": "markdown",
   "metadata": {},
   "source": [
    "#### Get data in Transforming Stage"
   ]
  },
  {
   "cell_type": "code",
   "execution_count": 2,
   "metadata": {},
   "outputs": [
    {
     "data": {
      "text/plain": [
       "PrescribingPhysicianID\n",
       "-1.0    63\n",
       " 1.0    15\n",
       " 9.0    15\n",
       "Name: count, dtype: int64"
      ]
     },
     "execution_count": 2,
     "metadata": {},
     "output_type": "execute_result"
    }
   ],
   "source": [
    "df = pd.read_csv('Patient_Interaction.csv')\n",
    "df['PrescribingPhysicianID'].value_counts()"
   ]
  },
  {
   "cell_type": "markdown",
   "metadata": {},
   "source": [
    "#### Update missing data in ID columns from -1 to 0"
   ]
  },
  {
   "cell_type": "code",
   "execution_count": 3,
   "metadata": {},
   "outputs": [
    {
     "data": {
      "text/plain": [
       "PrescribingPhysicianID\n",
       "0.0    63\n",
       "1.0    15\n",
       "9.0    15\n",
       "Name: count, dtype: int64"
      ]
     },
     "execution_count": 3,
     "metadata": {},
     "output_type": "execute_result"
    }
   ],
   "source": [
    "def update_id_columns(df):\n",
    "    id_columns = [col for col in df.columns if 'ID' in col]\n",
    "\n",
    "    # Replace -1 with 0 in these columns\n",
    "    for column in id_columns:\n",
    "        df[column] = df[column].replace(-1, 0)\n",
    "    \n",
    "    return df\n",
    "\n",
    "df = update_id_columns(df)\n",
    "df['PrescribingPhysicianID'].value_counts()"
   ]
  },
  {
   "cell_type": "code",
   "execution_count": 6,
   "metadata": {},
   "outputs": [
    {
     "data": {
      "text/plain": [
       "InteractionID                    0\n",
       "PatientSSN                       0\n",
       "PatientName                      0\n",
       "PatientAddress                   0\n",
       "PatientPhone                     0\n",
       "PatientInsuranceID               0\n",
       "PatientPCP                       0\n",
       "AppointmentID                    0\n",
       "AppointmentPatient               0\n",
       "AppointmentStart                 0\n",
       "AppointmentEnd                   0\n",
       "AppointmentExaminationRoom       0\n",
       "AppointmentPhysicianID           0\n",
       "AppointmentPhysicianName         0\n",
       "AppointmentPhysicianPosition     0\n",
       "AppointmentNurseID               0\n",
       "AppointmentNurseName             0\n",
       "AppointmentNursePosition         0\n",
       "PrescribingPhysician             0\n",
       "PrescriptionPatient              0\n",
       "PrescriptionMedication           0\n",
       "PrescriptionDate                63\n",
       "PrescriptionAppointment          0\n",
       "PrescriptionDose                 0\n",
       "PrescribingPhysicianID           0\n",
       "PrescribingPhysicianName         0\n",
       "PrescribingPhysicianPosition     0\n",
       "MedicationCode                   0\n",
       "MedicationName                   0\n",
       "MedicationBrand                  0\n",
       "MedicationDescription           30\n",
       "UndergoesPatient                 0\n",
       "UndergoesNewProcedure            0\n",
       "UndergoesStayID                  0\n",
       "UndergoesDate                    3\n",
       "UndergoesPhysicianID             0\n",
       "UndergoesNurseID                 0\n",
       "NewProcedureCode                 0\n",
       "NewProcedureName                 0\n",
       "NewProcedureCost                 0\n",
       "StayID                           0\n",
       "StayPatient                      0\n",
       "StayRoom                         0\n",
       "StayStart                        3\n",
       "StayEnd                          3\n",
       "RoomNumber                       0\n",
       "RoomType                         0\n",
       "RoomBlockFloor                   0\n",
       "RoomBlockCode                    0\n",
       "RoomUnavailable                  0\n",
       "BlockFloor                       0\n",
       "BlockCode                        0\n",
       "OnCallNurse                      0\n",
       "OnCallBlockFloor                 0\n",
       "OnCallBlockCode                  0\n",
       "OnCallStart                     57\n",
       "OnCallEnd                       57\n",
       "OnCallNurseID                    0\n",
       "OnCallNurseName                  0\n",
       "OnCallNursePosition              0\n",
       "OnCallNurseRegistered            0\n",
       "dtype: int64"
      ]
     },
     "execution_count": 6,
     "metadata": {},
     "output_type": "execute_result"
    }
   ],
   "source": [
    "df.isnull().sum()"
   ]
  },
  {
   "cell_type": "markdown",
   "metadata": {},
   "source": [
    "#### Update database"
   ]
  },
  {
   "cell_type": "code",
   "execution_count": 4,
   "metadata": {},
   "outputs": [
    {
     "name": "stdout",
     "output_type": "stream",
     "text": [
      "Staging table 'Interaction_staging' created.\n",
      "Database table updated.\n",
      "Staging table 'Interaction_staging' dropped.\n"
     ]
    }
   ],
   "source": [
    "from sqlalchemy import create_engine, text\n",
    "import pandas as pd\n",
    "\n",
    "def update_changed_records(df, table_name, primary_key, connection_string):\n",
    "    \"\"\"\n",
    "    Updates records in the database table that differ from the DataFrame.\n",
    "\n",
    "    Args:\n",
    "        df (pd.DataFrame): The updated DataFrame.\n",
    "        table_name (str): The name of the target table in the database.\n",
    "        primary_key (str): The primary key column used to identify records.\n",
    "        connection_string (str): The SQLAlchemy connection string for the database.\n",
    "\n",
    "    Returns:\n",
    "        None\n",
    "    \"\"\"\n",
    "    # Create SQLAlchemy engine\n",
    "    engine = create_engine(connection_string)\n",
    "\n",
    "    # Define the staging table name\n",
    "    staging_table = f\"{table_name}_staging\"\n",
    "\n",
    "    # Step 1: Push DataFrame to the staging table\n",
    "    df.to_sql(staging_table, con=engine, if_exists=\"replace\", index=False)\n",
    "    print(f\"Staging table '{staging_table}' created.\")\n",
    "\n",
    "    # Step 2: Use MERGE to update only the changed records\n",
    "    with engine.connect() as connection:\n",
    "        # Generate condition clauses for WHEN MATCHED\n",
    "        condition_clauses = \" OR \".join([f\"target.{col} <> source.{col}\" for col in df.columns if col != primary_key])\n",
    "        \n",
    "        # Generate the MERGE query\n",
    "        merge_query = text(f\"\"\"\n",
    "        MERGE INTO {table_name} AS target\n",
    "        USING {staging_table} AS source\n",
    "        ON target.{primary_key} = source.{primary_key}\n",
    "        WHEN MATCHED AND (\n",
    "            {condition_clauses}\n",
    "        )\n",
    "        THEN UPDATE SET\n",
    "            {', '.join([f'{col} = source.{col}' for col in df.columns if col != primary_key])}\n",
    "        WHEN NOT MATCHED BY TARGET THEN\n",
    "            INSERT ({', '.join(df.columns)})\n",
    "            VALUES ({', '.join([f'source.{col}' for col in df.columns])});\n",
    "        \"\"\")\n",
    "        \n",
    "        connection.execute(merge_query)\n",
    "        print(\"Database table updated.\")\n",
    "\n",
    "    # Step 3: Drop the staging table\n",
    "    with engine.connect() as connection:\n",
    "        connection.execute(text(f\"DROP TABLE IF EXISTS {staging_table}\"))\n",
    "        print(f\"Staging table '{staging_table}' dropped.\")\n",
    "\n",
    "\n",
    "\n",
    "# User credentials\n",
    "username = \"sa\"\n",
    "password = \"rainscales@2024\"  # Password with special character\n",
    "host = \"localhost\"\n",
    "port = \"1433\"\n",
    "database = \"PatientInteraction\"\n",
    "# URL-encode the password\n",
    "encoded_password = urllib.parse.quote_plus(password)\n",
    "# Correct connection string\n",
    "connection_string = f\"mssql+pyodbc://{username}:{encoded_password}@{host}:{port}/{database}?driver=ODBC+Driver+18+for+SQL+Server&TrustServerCertificate=yes\"\n",
    "update_changed_records(df=df, table_name='Interaction', primary_key='InteractionID', connection_string=connection_string)\n"
   ]
  },
  {
   "cell_type": "markdown",
   "metadata": {},
   "source": [
    "#### **Check for updates in database**"
   ]
  },
  {
   "cell_type": "code",
   "execution_count": 5,
   "metadata": {},
   "outputs": [
    {
     "data": {
      "text/plain": [
       "PrescribingPhysicianID\n",
       "0.0    63\n",
       "1.0    15\n",
       "9.0    15\n",
       "Name: count, dtype: int64"
      ]
     },
     "execution_count": 5,
     "metadata": {},
     "output_type": "execute_result"
    }
   ],
   "source": [
    "query = \"\"\"\n",
    "    SELECT * FROM Interaction\n",
    "\"\"\"\n",
    "df_patient = pd.read_sql(query, con=conn_patient)\n",
    "df['PrescribingPhysicianID'].value_counts()"
   ]
  },
  {
   "cell_type": "code",
   "execution_count": null,
   "metadata": {},
   "outputs": [],
   "source": []
  }
 ],
 "metadata": {
  "kernelspec": {
   "display_name": "streamlit",
   "language": "python",
   "name": "python3"
  },
  "language_info": {
   "codemirror_mode": {
    "name": "ipython",
    "version": 3
   },
   "file_extension": ".py",
   "mimetype": "text/x-python",
   "name": "python",
   "nbconvert_exporter": "python",
   "pygments_lexer": "ipython3",
   "version": "3.9.20"
  }
 },
 "nbformat": 4,
 "nbformat_minor": 2
}
